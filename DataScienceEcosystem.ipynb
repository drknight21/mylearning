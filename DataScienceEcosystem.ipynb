{
 "cells": [
  {
   "cell_type": "markdown",
   "id": "5ad23c0c",
   "metadata": {},
   "source": [
    "# Data Science Tools and Ecosystem #\n"
   ]
  },
  {
   "cell_type": "markdown",
   "id": "8c50735c",
   "metadata": {},
   "source": [
    "In this notebook, Data Science Tools and Ecosystem are summarized."
   ]
  },
  {
   "cell_type": "markdown",
   "id": "c262ee6e",
   "metadata": {},
   "source": [
    "**Objectives:**\n",
    "* List popular languages for Data Science\n",
    "* List common libraries used in Data Science\n",
    "* List Data Science tools\n",
    "* Provide examples of arithmetic expressions in Python\n"
   ]
  },
  {
   "cell_type": "markdown",
   "id": "e8dc5ab9",
   "metadata": {},
   "source": [
    "Some of the popular languages that Data Scientists use are:\n",
    "1. Python\n",
    "2. R\n",
    "3. SQL\n",
    "4. Julia\n",
    "5. Scala\n",
    "6. JavaScript"
   ]
  },
  {
   "cell_type": "markdown",
   "id": "f94d5af4",
   "metadata": {},
   "source": [
    "Some of the commonly used libraries used by Data Scientists include:\n",
    "1. NumPy\n",
    "2. Pandas\n",
    "3. Matplotlib\n",
    "4. Seaborn\n",
    "5. Plotly\n",
    "6. SciKit-Learn"
   ]
  },
  {
   "cell_type": "markdown",
   "id": "95556412",
   "metadata": {},
   "source": [
    "|Data Science Tools|\n",
    "|:----------------:|\n",
    "|Jupyter Notebooks|\n",
    "|RStudio|\n",
    "|Google Collab|"
   ]
  },
  {
   "cell_type": "markdown",
   "id": "3b6673ef",
   "metadata": {},
   "source": [
    "### Below are a few examples of evaluating arithmetic expressions in Python ###"
   ]
  },
  {
   "cell_type": "code",
   "execution_count": 1,
   "id": "4bfb5cb8",
   "metadata": {},
   "outputs": [
    {
     "data": {
      "text/plain": [
       "17"
      ]
     },
     "execution_count": 1,
     "metadata": {},
     "output_type": "execute_result"
    }
   ],
   "source": [
    "#This is a simple arithmetic expression to multiply than add integers\n",
    "(3*4)+5"
   ]
  },
  {
   "cell_type": "code",
   "execution_count": 9,
   "id": "e323bc7b",
   "metadata": {},
   "outputs": [
    {
     "name": "stdout",
     "output_type": "stream",
     "text": [
      "200 minutes is: 3.333 hours\n"
     ]
    }
   ],
   "source": [
    "#This will convert 200 minutes to hours by dividing by 60\n",
    "time = 200\n",
    "hours = time/60\n",
    "hours_rnd = \"%.3f\" % hours\n",
    "print(str(time) + \" minutes is: \" + str(hours_rnd) + \" hours\")"
   ]
  },
  {
   "cell_type": "markdown",
   "id": "1833454c",
   "metadata": {},
   "source": [
    "## Author ##\n",
    "Michael Knight"
   ]
  },
  {
   "cell_type": "code",
   "execution_count": null,
   "id": "f2118216",
   "metadata": {},
   "outputs": [],
   "source": []
  }
 ],
 "metadata": {
  "kernelspec": {
   "display_name": "Python 3 (ipykernel)",
   "language": "python",
   "name": "python3"
  },
  "language_info": {
   "codemirror_mode": {
    "name": "ipython",
    "version": 3
   },
   "file_extension": ".py",
   "mimetype": "text/x-python",
   "name": "python",
   "nbconvert_exporter": "python",
   "pygments_lexer": "ipython3",
   "version": "3.11.5"
  }
 },
 "nbformat": 4,
 "nbformat_minor": 5
}
